{
  "nbformat": 4,
  "nbformat_minor": 0,
  "metadata": {
    "colab": {
      "provenance": [],
      "authorship_tag": "ABX9TyMiy89/LAAilo7WPgFs9ubl",
      "include_colab_link": true
    },
    "kernelspec": {
      "name": "python3",
      "display_name": "Python 3"
    },
    "language_info": {
      "name": "python"
    }
  },
  "cells": [
    {
      "cell_type": "markdown",
      "metadata": {
        "id": "view-in-github",
        "colab_type": "text"
      },
      "source": [
        "<a href=\"https://colab.research.google.com/github/mmessina97/Mental_Health_Factors/blob/main/depression_percentage.ipynb\" target=\"_parent\"><img src=\"https://colab.research.google.com/assets/colab-badge.svg\" alt=\"Open In Colab\"/></a>"
      ]
    },
    {
      "cell_type": "code",
      "execution_count": 43,
      "metadata": {
        "colab": {
          "base_uri": "https://localhost:8080/"
        },
        "id": "0a7RGtwlVkwY",
        "outputId": "1f18db31-ab6d-4f98-f963-2e0bc135cb73"
      },
      "outputs": [
        {
          "output_type": "stream",
          "name": "stdout",
          "text": [
            "The percentage of depressed people is: 9.88%\n"
          ]
        }
      ],
      "source": [
        "import pandas as pd\n",
        "df = pd.read_excel('Mental_Health_Factors.xlsx')\n",
        "\n",
        "\n",
        "def depression_percentage(df):\n",
        "    # Count the number of \"Yes\" (True) in the \"Depression\" column\n",
        "    num_depressed = df['Depression'].str.lower().eq('yes').sum()\n",
        "\n",
        "    # Count the total number of entries in the \"Depression\" column\n",
        "    total_people = df['Depression'].count()\n",
        "\n",
        "    # Calculate the percentage\n",
        "    percentage = (num_depressed / total_people) * 100\n",
        "\n",
        "    return percentage\n",
        "\n",
        "# Example usage\n",
        "percentage = depression_percentage(df)\n",
        "print(f\"The percentage of depressed people is: {percentage:.2f}%\")\n",
        "\n",
        "\n",
        "\n",
        "\n"
      ]
    }
  ]
}